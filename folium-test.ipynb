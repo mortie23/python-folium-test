{
 "metadata": {
  "language_info": {
   "codemirror_mode": {
    "name": "ipython",
    "version": 3
   },
   "file_extension": ".py",
   "mimetype": "text/x-python",
   "name": "python",
   "nbconvert_exporter": "python",
   "pygments_lexer": "ipython3",
   "version": "3.8.2-final"
  },
  "orig_nbformat": 2,
  "kernelspec": {
   "name": "Python 3.8.2 64-bit",
   "display_name": "Python 3.8.2 64-bit",
   "metadata": {
    "interpreter": {
     "hash": "31f2aee4e71d21fbe5cf8b01ff0e069b9275f58929596ceb00d14d90e3e16cd6"
    }
   }
  }
 },
 "nbformat": 4,
 "nbformat_minor": 2,
 "cells": [
  {
   "source": [
    "# Python Folium \n",
    "\n",
    "Testing using Folium for mapping\n",
    "\n",
    "[Following this example](https://www.earthdatascience.org/tutorials/introduction-to-leaflet-animated-maps/)"
   ],
   "cell_type": "markdown",
   "metadata": {}
  },
  {
   "cell_type": "code",
   "execution_count": 3,
   "metadata": {},
   "outputs": [],
   "source": [
    "# Import the libraries\n",
    "import folium\n",
    "from folium.plugins import MarkerCluster\n",
    "import pandas as pd"
   ]
  },
  {
   "cell_type": "code",
   "execution_count": 20,
   "metadata": {},
   "outputs": [
    {
     "output_type": "execute_result",
     "data": {
      "text/plain": [
       "<folium.folium.Map at 0x7feb34004040>"
      ],
      "text/html": "<div style=\"width:100%;\"><div style=\"position:relative;width:100%;height:0;padding-bottom:60%;\"><span style=\"color:#565656\">Make this Notebook Trusted to load map: File -> Trust Notebook</span><iframe src=\"about:blank\" style=\"position:absolute;width:100%;height:100%;left:0;top:0;border:none !important;\" data-html=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 onload=\"this.contentDocument.open();this.contentDocument.write(atob(this.getAttribute('data-html')));this.contentDocument.close();\" allowfullscreen webkitallowfullscreen mozallowfullscreen></iframe></div></div>"
     },
     "metadata": {},
     "execution_count": 20
    }
   ],
   "source": [
    "# Define coordinates of where we want to center our map\n",
    "centre_coords = [-35.3482775,149.0250941]\n",
    "\n",
    "# Create the map\n",
    "my_map = folium.Map(location = centre_coords)\n",
    "\n",
    "# Define some markers\n",
    "point1_coords = [-35.348568, 149.087507]\n",
    "point2_coords = [-35.341663, 149.087097]\n",
    "point3_coords = [-35.349392, 149.088763]\n",
    "point4_coords = [-35.308004, 149.124534]\n",
    "point5_coords = [-35.416402, 149.066078]\n",
    "# Add markers to the map\n",
    "folium.Marker(point1_coords, popup = 'Southern Cross Club').add_to(my_map)\n",
    "folium.Marker(point2_coords, popup = 'Hellenic Club').add_to(my_map)\n",
    "folium.Marker(point3_coords, popup = 'KFC').add_to(my_map)\n",
    "folium.Marker(point4_coords, popup = 'Parliament House').add_to(my_map)\n",
    "folium.Marker(point5_coords, popup = 'South.Point Shopping').add_to(my_map)\n",
    "\n",
    "# Display the map\n",
    "my_map"
   ]
  },
  {
   "cell_type": "code",
   "execution_count": null,
   "metadata": {},
   "outputs": [],
   "source": []
  }
 ]
}